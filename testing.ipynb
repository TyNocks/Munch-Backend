{
 "cells": [
  {
   "cell_type": "code",
   "execution_count": 66,
   "metadata": {},
   "outputs": [],
   "source": [
    "import requests, pymongo, datetime, pandas"
   ]
  },
  {
   "cell_type": "code",
   "execution_count": 85,
   "metadata": {},
   "outputs": [],
   "source": [
    "user = requests.post('http://localhost:8080/userdata/register', json={'email': 'kervox@live.com', 'password': 'password'}).json()"
   ]
  },
  {
   "cell_type": "code",
   "execution_count": 114,
   "metadata": {},
   "outputs": [],
   "source": [
    "hold = requests.post('http://localhost:8080/ingredient/nutrient', json={'fdc_id': '1105904'})"
   ]
  },
  {
   "cell_type": "code",
   "execution_count": 115,
   "metadata": {},
   "outputs": [
    {
     "data": {
      "text/plain": [
       "{'203': 0,\n",
       " '204': 93.33,\n",
       " '205': 0,\n",
       " '208': 867,\n",
       " '269': 0,\n",
       " '291': 0,\n",
       " '301': 0,\n",
       " '303': 0,\n",
       " '306': 0,\n",
       " '307': 0,\n",
       " '318': 0,\n",
       " '324': 0,\n",
       " '401': 0,\n",
       " '601': 0,\n",
       " '605': 0,\n",
       " '606': 13.33,\n",
       " '645': 20,\n",
       " '646': 53.33,\n",
       " '_id': '629924ffd44ef58ebbfce95d',\n",
       " 'fdc_id': '1105904'}"
      ]
     },
     "execution_count": 115,
     "metadata": {},
     "output_type": "execute_result"
    }
   ],
   "source": [
    "hold.json()"
   ]
  },
  {
   "cell_type": "code",
   "execution_count": null,
   "metadata": {},
   "outputs": [],
   "source": []
  }
 ],
 "metadata": {
  "interpreter": {
   "hash": "b3ba2566441a7c06988d0923437866b63cedc61552a5af99d1f4fb67d367b25f"
  },
  "kernelspec": {
   "display_name": "Python 3.8.8 ('base')",
   "language": "python",
   "name": "python3"
  },
  "language_info": {
   "codemirror_mode": {
    "name": "ipython",
    "version": 3
   },
   "file_extension": ".py",
   "mimetype": "text/x-python",
   "name": "python",
   "nbconvert_exporter": "python",
   "pygments_lexer": "ipython3",
   "version": "3.8.8"
  },
  "orig_nbformat": 4
 },
 "nbformat": 4,
 "nbformat_minor": 2
}
